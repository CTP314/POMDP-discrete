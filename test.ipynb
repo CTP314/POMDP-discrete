{
 "cells": [
  {
   "cell_type": "code",
   "execution_count": 1,
   "metadata": {},
   "outputs": [],
   "source": [
    "%load_ext autoreload\n",
    "%autoreload 2"
   ]
  },
  {
   "cell_type": "code",
   "execution_count": 2,
   "metadata": {},
   "outputs": [
    {
     "name": "stderr",
     "output_type": "stream",
     "text": [
      "/home/chenhao/miniconda3/envs/pomdp/lib/python3.8/site-packages/tqdm/auto.py:21: TqdmWarning: IProgress not found. Please update jupyter and ipywidgets. See https://ipywidgets.readthedocs.io/en/stable/user_install.html\n",
      "  from .autonotebook import tqdm as notebook_tqdm\n"
     ]
    }
   ],
   "source": [
    "from policies.seq_models.lru_vanilla import LRU"
   ]
  },
  {
   "cell_type": "code",
   "execution_count": 3,
   "metadata": {},
   "outputs": [
    {
     "name": "stderr",
     "output_type": "stream",
     "text": [
      "/home/chenhao/miniconda3/envs/pomdp/lib/python3.8/site-packages/torch/nn/modules/module.py:1133: UserWarning: Complex modules are a new feature under active development whose design may change, and some modules might not work as expected when using complex tensors as parameters or buffers. Please file an issue at https://github.com/pytorch/pytorch/issues/new?template=bug-report.yml if a complex module does not work as expected.\n",
      "  warnings.warn(\n"
     ]
    }
   ],
   "source": [
    "model = LRU(\n",
    "    input_size=32,\n",
    "    hidden_size=32,\n",
    "    n_layer=3,\n",
    "    drop=0.1,\n",
    "    gating=True,\n",
    ")"
   ]
  },
  {
   "cell_type": "code",
   "execution_count": 65,
   "metadata": {},
   "outputs": [],
   "source": [
    "import torch\n",
    "model.eval()\n",
    "B, L, D = 12, 10000, 32\n",
    "input = torch.randn(L, B, D)\n",
    "target, h = model(input)"
   ]
  },
  {
   "cell_type": "code",
   "execution_count": 66,
   "metadata": {},
   "outputs": [],
   "source": [
    "\n",
    "output = torch.zeros(L, B, D)\n",
    "h = None\n",
    "for i in range(L):\n",
    "    output[i:i+1], h = model(input[i][None], h)"
   ]
  },
  {
   "cell_type": "code",
   "execution_count": 68,
   "metadata": {},
   "outputs": [
    {
     "data": {
      "text/plain": [
       "torch.Size([10000, 12, 32])"
      ]
     },
     "execution_count": 68,
     "metadata": {},
     "output_type": "execute_result"
    }
   ],
   "source": [
    "target.shape"
   ]
  },
  {
   "cell_type": "code",
   "execution_count": 71,
   "metadata": {},
   "outputs": [
    {
     "name": "stdout",
     "output_type": "stream",
     "text": [
      "False tensor(3.6277e-08, grad_fn=<StdBackward0>)\n"
     ]
    }
   ],
   "source": [
    "torch.allclose(target, output)\n",
    "print(torch.allclose(target, output), torch.abs(target - output).std())"
   ]
  },
  {
   "cell_type": "code",
   "execution_count": 28,
   "metadata": {},
   "outputs": [
    {
     "name": "stdout",
     "output_type": "stream",
     "text": [
      "torch.Size([3, 12, 32]) torch.Size([3, 12, 32])\n"
     ]
    }
   ],
   "source": [
    "print(target.shape, output.shape)"
   ]
  },
  {
   "cell_type": "code",
   "execution_count": 50,
   "metadata": {},
   "outputs": [
    {
     "data": {
      "text/plain": [
       "(tensor([-0.5660, -0.2480,  0.3182,  0.6361,  0.2929,  0.0761,  0.4688, -0.0794,\n",
       "         -0.8412,  0.6678,  0.5462,  0.4955,  0.4525,  0.1509, -0.8542, -0.6279,\n",
       "          0.1532, -0.8490,  0.5493,  0.4049, -0.3210, -0.7756,  0.3523,  0.1889,\n",
       "          0.6069, -0.8077, -0.5812, -0.1406, -0.0400,  0.1676, -0.2747,  0.3784],\n",
       "        grad_fn=<SelectBackward0>),\n",
       " tensor([-0.5660, -0.2480,  0.3182,  0.6361,  0.2929,  0.0761,  0.4688, -0.0794,\n",
       "         -0.8412,  0.6678,  0.5462,  0.4955,  0.4525,  0.1509, -0.8542, -0.6279,\n",
       "          0.1532, -0.8490,  0.5493,  0.4049, -0.3210, -0.7756,  0.3523,  0.1889,\n",
       "          0.6069, -0.8077, -0.5812, -0.1406, -0.0400,  0.1676, -0.2747,  0.3784],\n",
       "        grad_fn=<SelectBackward0>))"
      ]
     },
     "execution_count": 50,
     "metadata": {},
     "output_type": "execute_result"
    }
   ],
   "source": [
    "target[4][0], output[4][0]"
   ]
  },
  {
   "cell_type": "code",
   "execution_count": 3,
   "metadata": {},
   "outputs": [],
   "source": [
    "filename = 'tmp'\n",
    "with open(filename, 'w+t') as f:\n",
    "    f.write('hello world')"
   ]
  },
  {
   "cell_type": "code",
   "execution_count": 2,
   "metadata": {},
   "outputs": [
    {
     "ename": "ModuleNotFoundError",
     "evalue": "No module named 'collections.Set'",
     "output_type": "error",
     "traceback": [
      "\u001b[0;31m---------------------------------------------------------------------------\u001b[0m",
      "\u001b[0;31mModuleNotFoundError\u001b[0m                       Traceback (most recent call last)",
      "Cell \u001b[0;32mIn[2], line 1\u001b[0m\n\u001b[0;32m----> 1\u001b[0m \u001b[38;5;28;01mimport\u001b[39;00m \u001b[38;5;21;01mcollections\u001b[39;00m\u001b[38;5;21;01m.\u001b[39;00m\u001b[38;5;21;01mSet\u001b[39;00m\n\u001b[1;32m      3\u001b[0m \u001b[38;5;28;01mclass\u001b[39;00m \u001b[38;5;21;01mOrderedSet\u001b[39;00m(collections\u001b[38;5;241m.\u001b[39mabc\u001b[38;5;241m.\u001b[39mSet):\n\u001b[1;32m      4\u001b[0m     \u001b[38;5;28;01mdef\u001b[39;00m \u001b[38;5;21m__init__\u001b[39m(\u001b[38;5;28mself\u001b[39m, iterable\u001b[38;5;241m=\u001b[39m()):\n",
      "\u001b[0;31mModuleNotFoundError\u001b[0m: No module named 'collections.Set'"
     ]
    }
   ],
   "source": [
    "import collections.Set\n",
    "\n",
    "class OrderedSet(collections.abc.Set):\n",
    "    def __init__(self, iterable=()):\n",
    "        self.d = collections.OrderedDict.fromkeys(iterable)\n",
    "\n",
    "    def __len__(self):\n",
    "        return len(self.d)\n",
    "\n",
    "    def __contains__(self, element):\n",
    "        return element in self.d\n",
    "\n",
    "    def __iter__(self):\n",
    "        return iter(self.d)"
   ]
  },
  {
   "cell_type": "code",
   "execution_count": null,
   "metadata": {},
   "outputs": [],
   "source": [
    "class CSVOutputFormat(KVWriter):\n",
    "    def __init__(self, filename):\n",
    "        self.file = open(filename, \"w\")\n",
    "        self.keys = []\n",
    "        self.sep = \",\"\n",
    "\n",
    "    def writekvs(self, kvs):\n",
    "        # Add our current row to the history\n",
    "        print(kvs)\n",
    "        extra_keys = list(OrderedSet(kvs.keys()) - OrderedSet(self.keys))\n",
    "        if extra_keys:\n",
    "            self.keys.extend(extra_keys)\n",
    "            self.file.seek(0)\n",
    "            lines = self.file.readlines()\n",
    "            self.file.seek(0)\n",
    "            for (i, k) in enumerate(self.keys):\n",
    "                if i > 0:\n",
    "                    self.file.write(\",\")\n",
    "                self.file.write(k)\n",
    "            self.file.write(\"\\n\")\n",
    "            for line in lines[1:]:\n",
    "                self.file.write(line[:-1])\n",
    "                self.file.write(self.sep * len(extra_keys))\n",
    "                self.file.write(\"\\n\")\n",
    "        for (i, k) in enumerate(self.keys):\n",
    "            if i > 0:\n",
    "                self.file.write(\",\")\n",
    "            v = kvs.get(k)\n",
    "            if v is not None:\n",
    "                self.file.write(str(v))\n",
    "        self.file.write(\"\\n\")\n",
    "        self.file.flush()\n",
    "\n",
    "    def close(self):\n",
    "        self.file.close()"
   ]
  }
 ],
 "metadata": {
  "kernelspec": {
   "display_name": "pomdp",
   "language": "python",
   "name": "python3"
  },
  "language_info": {
   "codemirror_mode": {
    "name": "ipython",
    "version": 3
   },
   "file_extension": ".py",
   "mimetype": "text/x-python",
   "name": "python",
   "nbconvert_exporter": "python",
   "pygments_lexer": "ipython3",
   "version": "3.10.9"
  }
 },
 "nbformat": 4,
 "nbformat_minor": 2
}
